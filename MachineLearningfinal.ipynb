{
 "cells": [
  {
   "cell_type": "markdown",
   "metadata": {},
   "source": [
    "Importing the libraries"
   ]
  },
  {
   "cell_type": "code",
   "execution_count": 1,
   "metadata": {},
   "outputs": [],
   "source": [
    "import warnings\n",
    "warnings.filterwarnings('ignore')\n",
    "import numpy as np\n",
    "import pandas as pd\n",
    "import seaborn as sns\n",
    "import matplotlib.pyplot as plt\n",
    "%matplotlib inline"
   ]
  },
  {
   "cell_type": "markdown",
   "metadata": {},
   "source": [
    "IMPORTING THE DATASET FILE ('DATA.CSV') USING PANDAS AND DISPLAYING THE FIRST FIVE ROWS USING"
   ]
  },
  {
   "cell_type": "code",
   "execution_count": 2,
   "metadata": {},
   "outputs": [
    {
     "data": {
      "text/html": [
       "<div>\n",
       "<style scoped>\n",
       "    .dataframe tbody tr th:only-of-type {\n",
       "        vertical-align: middle;\n",
       "    }\n",
       "\n",
       "    .dataframe tbody tr th {\n",
       "        vertical-align: top;\n",
       "    }\n",
       "\n",
       "    .dataframe thead th {\n",
       "        text-align: right;\n",
       "    }\n",
       "</style>\n",
       "<table border=\"1\" class=\"dataframe\">\n",
       "  <thead>\n",
       "    <tr style=\"text-align: right;\">\n",
       "      <th></th>\n",
       "      <th>F1</th>\n",
       "      <th>F2</th>\n",
       "      <th>F3</th>\n",
       "      <th>F4</th>\n",
       "      <th>F5</th>\n",
       "      <th>F6</th>\n",
       "      <th>F7</th>\n",
       "      <th>F8</th>\n",
       "      <th>F9</th>\n",
       "      <th>F10</th>\n",
       "      <th>...</th>\n",
       "      <th>F12</th>\n",
       "      <th>F13</th>\n",
       "      <th>F14</th>\n",
       "      <th>F15</th>\n",
       "      <th>F16</th>\n",
       "      <th>F17</th>\n",
       "      <th>F18</th>\n",
       "      <th>F19</th>\n",
       "      <th>F20</th>\n",
       "      <th>Class</th>\n",
       "    </tr>\n",
       "  </thead>\n",
       "  <tbody>\n",
       "    <tr>\n",
       "      <th>0</th>\n",
       "      <td>0</td>\n",
       "      <td>0</td>\n",
       "      <td>16</td>\n",
       "      <td>2.02</td>\n",
       "      <td>0.52</td>\n",
       "      <td>-2.35</td>\n",
       "      <td>-1.98</td>\n",
       "      <td>-0.70</td>\n",
       "      <td>85</td>\n",
       "      <td>6</td>\n",
       "      <td>...</td>\n",
       "      <td>-0.07</td>\n",
       "      <td>1.08</td>\n",
       "      <td>15</td>\n",
       "      <td>-0.63</td>\n",
       "      <td>-3.49</td>\n",
       "      <td>-1.68</td>\n",
       "      <td>0.02</td>\n",
       "      <td>15.3</td>\n",
       "      <td>NaN</td>\n",
       "      <td>True</td>\n",
       "    </tr>\n",
       "    <tr>\n",
       "      <th>1</th>\n",
       "      <td>0</td>\n",
       "      <td>0</td>\n",
       "      <td>86</td>\n",
       "      <td>-0.90</td>\n",
       "      <td>2.75</td>\n",
       "      <td>0.14</td>\n",
       "      <td>0.83</td>\n",
       "      <td>-0.06</td>\n",
       "      <td>107</td>\n",
       "      <td>1</td>\n",
       "      <td>...</td>\n",
       "      <td>0.17</td>\n",
       "      <td>1.06</td>\n",
       "      <td>-8</td>\n",
       "      <td>-1.21</td>\n",
       "      <td>0.34</td>\n",
       "      <td>0.36</td>\n",
       "      <td>0.61</td>\n",
       "      <td>10.1</td>\n",
       "      <td>NaN</td>\n",
       "      <td>True</td>\n",
       "    </tr>\n",
       "    <tr>\n",
       "      <th>2</th>\n",
       "      <td>1</td>\n",
       "      <td>1</td>\n",
       "      <td>165</td>\n",
       "      <td>0.73</td>\n",
       "      <td>1.05</td>\n",
       "      <td>0.10</td>\n",
       "      <td>2.57</td>\n",
       "      <td>-1.65</td>\n",
       "      <td>41</td>\n",
       "      <td>5</td>\n",
       "      <td>...</td>\n",
       "      <td>0.04</td>\n",
       "      <td>0.42</td>\n",
       "      <td>-6</td>\n",
       "      <td>-0.46</td>\n",
       "      <td>-0.62</td>\n",
       "      <td>1.67</td>\n",
       "      <td>2.60</td>\n",
       "      <td>11.0</td>\n",
       "      <td>1.55</td>\n",
       "      <td>False</td>\n",
       "    </tr>\n",
       "    <tr>\n",
       "      <th>3</th>\n",
       "      <td>1</td>\n",
       "      <td>1</td>\n",
       "      <td>191</td>\n",
       "      <td>-1.50</td>\n",
       "      <td>0.79</td>\n",
       "      <td>0.33</td>\n",
       "      <td>1.24</td>\n",
       "      <td>1.35</td>\n",
       "      <td>17</td>\n",
       "      <td>2</td>\n",
       "      <td>...</td>\n",
       "      <td>1.74</td>\n",
       "      <td>1.74</td>\n",
       "      <td>15</td>\n",
       "      <td>0.47</td>\n",
       "      <td>0.63</td>\n",
       "      <td>0.08</td>\n",
       "      <td>0.19</td>\n",
       "      <td>6.3</td>\n",
       "      <td>0.95</td>\n",
       "      <td>False</td>\n",
       "    </tr>\n",
       "    <tr>\n",
       "      <th>4</th>\n",
       "      <td>1</td>\n",
       "      <td>1</td>\n",
       "      <td>13</td>\n",
       "      <td>0.25</td>\n",
       "      <td>-1.19</td>\n",
       "      <td>-0.90</td>\n",
       "      <td>2.67</td>\n",
       "      <td>0.22</td>\n",
       "      <td>12</td>\n",
       "      <td>8</td>\n",
       "      <td>...</td>\n",
       "      <td>-0.39</td>\n",
       "      <td>1.25</td>\n",
       "      <td>25</td>\n",
       "      <td>-0.09</td>\n",
       "      <td>-2.41</td>\n",
       "      <td>-0.53</td>\n",
       "      <td>-0.77</td>\n",
       "      <td>10.5</td>\n",
       "      <td>NaN</td>\n",
       "      <td>True</td>\n",
       "    </tr>\n",
       "  </tbody>\n",
       "</table>\n",
       "<p>5 rows × 21 columns</p>\n",
       "</div>"
      ],
      "text/plain": [
       "   F1  F2   F3    F4    F5    F6    F7    F8   F9  F10  ...   F12   F13  F14  \\\n",
       "0   0   0   16  2.02  0.52 -2.35 -1.98 -0.70   85    6  ... -0.07  1.08   15   \n",
       "1   0   0   86 -0.90  2.75  0.14  0.83 -0.06  107    1  ...  0.17  1.06   -8   \n",
       "2   1   1  165  0.73  1.05  0.10  2.57 -1.65   41    5  ...  0.04  0.42   -6   \n",
       "3   1   1  191 -1.50  0.79  0.33  1.24  1.35   17    2  ...  1.74  1.74   15   \n",
       "4   1   1   13  0.25 -1.19 -0.90  2.67  0.22   12    8  ... -0.39  1.25   25   \n",
       "\n",
       "    F15   F16   F17   F18   F19   F20  Class  \n",
       "0 -0.63 -3.49 -1.68  0.02  15.3   NaN   True  \n",
       "1 -1.21  0.34  0.36  0.61  10.1   NaN   True  \n",
       "2 -0.46 -0.62  1.67  2.60  11.0  1.55  False  \n",
       "3  0.47  0.63  0.08  0.19   6.3  0.95  False  \n",
       "4 -0.09 -2.41 -0.53 -0.77  10.5   NaN   True  \n",
       "\n",
       "[5 rows x 21 columns]"
      ]
     },
     "execution_count": 2,
     "metadata": {},
     "output_type": "execute_result"
    }
   ],
   "source": [
    "datadf=pd.read_csv('CE802_Ass_2019_Data.csv')\n",
    "datadf.head()\n"
   ]
  },
  {
   "cell_type": "code",
   "execution_count": null,
   "metadata": {},
   "outputs": [],
   "source": [
    "#CALCULATING THE TOTAL NA VALUES AND IT ALL BELONGS TO THE F20 COLUMN"
   ]
  },
  {
   "cell_type": "code",
   "execution_count": 3,
   "metadata": {},
   "outputs": [
    {
     "data": {
      "text/plain": [
       "F1         0\n",
       "F2         0\n",
       "F3         0\n",
       "F4         0\n",
       "F5         0\n",
       "F6         0\n",
       "F7         0\n",
       "F8         0\n",
       "F9         0\n",
       "F10        0\n",
       "F11        0\n",
       "F12        0\n",
       "F13        0\n",
       "F14        0\n",
       "F15        0\n",
       "F16        0\n",
       "F17        0\n",
       "F18        0\n",
       "F19        0\n",
       "F20      172\n",
       "Class      0\n",
       "dtype: int64"
      ]
     },
     "execution_count": 3,
     "metadata": {},
     "output_type": "execute_result"
    }
   ],
   "source": [
    "datadf.isna().sum()"
   ]
  },
  {
   "cell_type": "code",
   "execution_count": 10,
   "metadata": {},
   "outputs": [
    {
     "name": "stdout",
     "output_type": "stream",
     "text": [
      "Collecting pandas-profiling\n",
      "Collecting visions==0.2.2 (from pandas-profiling)\n",
      "Requirement already satisfied: requests==2.22.0 in c:\\users\\dilba\\anaconda3\\lib\\site-packages (from pandas-profiling) (2.22.0)\n",
      "Collecting phik==0.9.9 (from pandas-profiling)\n",
      "  Using cached https://files.pythonhosted.org/packages/03/cf/b8cef2778104dc5d319f36dd836efaceb07a037cbf63f27c966b5a193ce9/phik-0.9.9-py3-none-any.whl\n",
      "Requirement already satisfied: numpy>=1.16.0 in c:\\users\\dilba\\anaconda3\\lib\\site-packages (from pandas-profiling) (1.16.5)\n",
      "Collecting kaggle==1.5.6 (from pandas-profiling)\n",
      "Requirement already satisfied: ipywidgets==7.5.1 in c:\\users\\dilba\\anaconda3\\lib\\site-packages (from pandas-profiling) (7.5.1)\n",
      "Requirement already satisfied: pandas==0.25.3 in c:\\users\\dilba\\anaconda3\\lib\\site-packages (from pandas-profiling) (0.25.3)\n",
      "Collecting tangled-up-in-unicode==0.0.3 (from pandas-profiling)\n",
      "Collecting missingno==0.4.2 (from pandas-profiling)\n",
      "  Using cached https://files.pythonhosted.org/packages/2b/de/6e4dd6d720c49939544352155dc06a08c9f7e4271aa631a559dfbeaaf9d4/missingno-0.4.2-py3-none-any.whl\n",
      "Collecting jinja2==2.11.1 (from pandas-profiling)\n",
      "  Using cached https://files.pythonhosted.org/packages/27/24/4f35961e5c669e96f6559760042a55b9bcfcdb82b9bdb3c8753dbe042e35/Jinja2-2.11.1-py2.py3-none-any.whl\n",
      "Collecting htmlmin==0.1.12 (from pandas-profiling)\n",
      "Requirement already satisfied: matplotlib>=3.0.3 in c:\\users\\dilba\\anaconda3\\lib\\site-packages (from pandas-profiling) (3.1.1)\n",
      "Collecting confuse==1.0.0 (from pandas-profiling)\n",
      "Collecting tqdm==4.42.0 (from pandas-profiling)\n",
      "  Using cached https://files.pythonhosted.org/packages/cc/2e/4307206db63f05ed37e21d4c0d843d0fbcacd62479f8ce99ba0f2c0875e0/tqdm-4.42.0-py2.py3-none-any.whl\n",
      "Collecting astropy>=3.2.3 (from pandas-profiling)\n",
      "  Using cached https://files.pythonhosted.org/packages/f4/b9/d2a9dbab73995639969f5cf3e6acc646371da65a0fdc3f61cac5bb2c98e4/astropy-4.0-cp37-cp37m-win_amd64.whl\n",
      "Requirement already satisfied: scipy>=1.4.1 in c:\\users\\dilba\\anaconda3\\lib\\site-packages (from pandas-profiling) (1.4.1)\n",
      "Requirement already satisfied: networkx in c:\\users\\dilba\\anaconda3\\lib\\site-packages (from visions==0.2.2->pandas-profiling) (2.3)\n",
      "Collecting attr (from visions==0.2.2->pandas-profiling)\n",
      "Requirement already satisfied: urllib3!=1.25.0,!=1.25.1,<1.26,>=1.21.1 in c:\\users\\dilba\\anaconda3\\lib\\site-packages (from requests==2.22.0->pandas-profiling) (1.24.2)\n",
      "Requirement already satisfied: idna<2.9,>=2.5 in c:\\users\\dilba\\anaconda3\\lib\\site-packages (from requests==2.22.0->pandas-profiling) (2.8)\n",
      "Requirement already satisfied: chardet<3.1.0,>=3.0.2 in c:\\users\\dilba\\anaconda3\\lib\\site-packages (from requests==2.22.0->pandas-profiling) (3.0.4)\n",
      "Requirement already satisfied: certifi>=2017.4.17 in c:\\users\\dilba\\anaconda3\\lib\\site-packages (from requests==2.22.0->pandas-profiling) (2019.9.11)\n",
      "Requirement already satisfied: nbconvert>=5.3.1 in c:\\users\\dilba\\anaconda3\\lib\\site-packages (from phik==0.9.9->pandas-profiling) (5.6.0)\n",
      "Requirement already satisfied: numba>=0.38.1 in c:\\users\\dilba\\anaconda3\\lib\\site-packages (from phik==0.9.9->pandas-profiling) (0.45.1)\n",
      "Requirement already satisfied: jupyter-client>=5.2.3 in c:\\users\\dilba\\anaconda3\\lib\\site-packages (from phik==0.9.9->pandas-profiling) (5.3.3)\n",
      "Collecting pytest-pylint>=0.13.0 (from phik==0.9.9->pandas-profiling)\n",
      "  Using cached https://files.pythonhosted.org/packages/0f/2e/12d3e83e90341fc7aff0e42955ab560df4e7f07b847f98302e23eba96289/pytest_pylint-0.15.0-py3-none-any.whl\n",
      "Requirement already satisfied: pytest>=4.0.2 in c:\\users\\dilba\\anaconda3\\lib\\site-packages (from phik==0.9.9->pandas-profiling) (5.2.1)\n",
      "Collecting joblib>=0.14.1 (from phik==0.9.9->pandas-profiling)\n",
      "  Using cached https://files.pythonhosted.org/packages/28/5c/cf6a2b65a321c4a209efcdf64c2689efae2cb62661f8f6f4bb28547cf1bf/joblib-0.14.1-py2.py3-none-any.whl\n",
      "Collecting python-slugify (from kaggle==1.5.6->pandas-profiling)\n",
      "Requirement already satisfied: six>=1.10 in c:\\users\\dilba\\anaconda3\\lib\\site-packages (from kaggle==1.5.6->pandas-profiling) (1.12.0)\n",
      "Requirement already satisfied: python-dateutil in c:\\users\\dilba\\anaconda3\\lib\\site-packages (from kaggle==1.5.6->pandas-profiling) (2.8.0)\n",
      "Requirement already satisfied: ipython>=4.0.0; python_version >= \"3.3\" in c:\\users\\dilba\\anaconda3\\lib\\site-packages (from ipywidgets==7.5.1->pandas-profiling) (7.8.0)\n",
      "Requirement already satisfied: widgetsnbextension~=3.5.0 in c:\\users\\dilba\\anaconda3\\lib\\site-packages (from ipywidgets==7.5.1->pandas-profiling) (3.5.1)\n",
      "Requirement already satisfied: ipykernel>=4.5.1 in c:\\users\\dilba\\anaconda3\\lib\\site-packages (from ipywidgets==7.5.1->pandas-profiling) (5.1.2)\n",
      "Requirement already satisfied: traitlets>=4.3.1 in c:\\users\\dilba\\anaconda3\\lib\\site-packages (from ipywidgets==7.5.1->pandas-profiling) (4.3.3)\n",
      "Requirement already satisfied: nbformat>=4.2.0 in c:\\users\\dilba\\anaconda3\\lib\\site-packages (from ipywidgets==7.5.1->pandas-profiling) (4.4.0)\n",
      "Requirement already satisfied: pytz>=2017.2 in c:\\users\\dilba\\anaconda3\\lib\\site-packages (from pandas==0.25.3->pandas-profiling) (2019.3)\n",
      "Requirement already satisfied: seaborn in c:\\users\\dilba\\anaconda3\\lib\\site-packages (from missingno==0.4.2->pandas-profiling) (0.9.0)\n",
      "Requirement already satisfied: MarkupSafe>=0.23 in c:\\users\\dilba\\anaconda3\\lib\\site-packages (from jinja2==2.11.1->pandas-profiling) (1.1.1)\n",
      "Requirement already satisfied: cycler>=0.10 in c:\\users\\dilba\\anaconda3\\lib\\site-packages (from matplotlib>=3.0.3->pandas-profiling) (0.10.0)\n",
      "Requirement already satisfied: kiwisolver>=1.0.1 in c:\\users\\dilba\\anaconda3\\lib\\site-packages (from matplotlib>=3.0.3->pandas-profiling) (1.1.0)\n",
      "Requirement already satisfied: pyparsing!=2.0.4,!=2.1.2,!=2.1.6,>=2.0.1 in c:\\users\\dilba\\anaconda3\\lib\\site-packages (from matplotlib>=3.0.3->pandas-profiling) (2.4.2)\n",
      "Requirement already satisfied: pyyaml in c:\\users\\dilba\\anaconda3\\lib\\site-packages (from confuse==1.0.0->pandas-profiling) (5.1.2)\n",
      "Requirement already satisfied: decorator>=4.3.0 in c:\\users\\dilba\\anaconda3\\lib\\site-packages (from networkx->visions==0.2.2->pandas-profiling) (4.4.0)\n",
      "Requirement already satisfied: defusedxml in c:\\users\\dilba\\anaconda3\\lib\\site-packages (from nbconvert>=5.3.1->phik==0.9.9->pandas-profiling) (0.6.0)\n",
      "Requirement already satisfied: bleach in c:\\users\\dilba\\anaconda3\\lib\\site-packages (from nbconvert>=5.3.1->phik==0.9.9->pandas-profiling) (3.1.0)\n",
      "Requirement already satisfied: testpath in c:\\users\\dilba\\anaconda3\\lib\\site-packages (from nbconvert>=5.3.1->phik==0.9.9->pandas-profiling) (0.4.2)\n",
      "Requirement already satisfied: mistune<2,>=0.8.1 in c:\\users\\dilba\\anaconda3\\lib\\site-packages (from nbconvert>=5.3.1->phik==0.9.9->pandas-profiling) (0.8.4)\n",
      "Requirement already satisfied: pandocfilters>=1.4.1 in c:\\users\\dilba\\anaconda3\\lib\\site-packages (from nbconvert>=5.3.1->phik==0.9.9->pandas-profiling) (1.4.2)\n",
      "Requirement already satisfied: jupyter-core in c:\\users\\dilba\\anaconda3\\lib\\site-packages (from nbconvert>=5.3.1->phik==0.9.9->pandas-profiling) (4.5.0)\n",
      "Requirement already satisfied: pygments in c:\\users\\dilba\\anaconda3\\lib\\site-packages (from nbconvert>=5.3.1->phik==0.9.9->pandas-profiling) (2.4.2)\n",
      "Requirement already satisfied: entrypoints>=0.2.2 in c:\\users\\dilba\\anaconda3\\lib\\site-packages (from nbconvert>=5.3.1->phik==0.9.9->pandas-profiling) (0.3)\n",
      "Requirement already satisfied: llvmlite>=0.29.0dev0 in c:\\users\\dilba\\anaconda3\\lib\\site-packages (from numba>=0.38.1->phik==0.9.9->pandas-profiling) (0.29.0)\n",
      "Requirement already satisfied: pyzmq>=13 in c:\\users\\dilba\\anaconda3\\lib\\site-packages (from jupyter-client>=5.2.3->phik==0.9.9->pandas-profiling) (18.1.0)\n",
      "Requirement already satisfied: pywin32>=1.0; sys_platform == \"win32\" in c:\\users\\dilba\\anaconda3\\lib\\site-packages (from jupyter-client>=5.2.3->phik==0.9.9->pandas-profiling) (223)\n",
      "Requirement already satisfied: tornado>=4.1 in c:\\users\\dilba\\anaconda3\\lib\\site-packages (from jupyter-client>=5.2.3->phik==0.9.9->pandas-profiling) (6.0.3)\n",
      "Requirement already satisfied: pylint>=2.0.0 in c:\\users\\dilba\\anaconda3\\lib\\site-packages (from pytest-pylint>=0.13.0->phik==0.9.9->pandas-profiling) (2.4.2)\n",
      "Requirement already satisfied: py>=1.5.0 in c:\\users\\dilba\\anaconda3\\lib\\site-packages (from pytest>=4.0.2->phik==0.9.9->pandas-profiling) (1.8.0)\n",
      "Requirement already satisfied: packaging in c:\\users\\dilba\\anaconda3\\lib\\site-packages (from pytest>=4.0.2->phik==0.9.9->pandas-profiling) (19.2)\n",
      "Requirement already satisfied: attrs>=17.4.0 in c:\\users\\dilba\\anaconda3\\lib\\site-packages (from pytest>=4.0.2->phik==0.9.9->pandas-profiling) (19.2.0)\n",
      "Requirement already satisfied: more-itertools>=4.0.0 in c:\\users\\dilba\\anaconda3\\lib\\site-packages (from pytest>=4.0.2->phik==0.9.9->pandas-profiling) (7.2.0)\n",
      "Requirement already satisfied: atomicwrites>=1.0 in c:\\users\\dilba\\anaconda3\\lib\\site-packages (from pytest>=4.0.2->phik==0.9.9->pandas-profiling) (1.3.0)\n",
      "Requirement already satisfied: pluggy<1.0,>=0.12 in c:\\users\\dilba\\anaconda3\\lib\\site-packages (from pytest>=4.0.2->phik==0.9.9->pandas-profiling) (0.13.0)\n",
      "Requirement already satisfied: wcwidth in c:\\users\\dilba\\anaconda3\\lib\\site-packages (from pytest>=4.0.2->phik==0.9.9->pandas-profiling) (0.1.7)\n",
      "Requirement already satisfied: importlib-metadata>=0.12 in c:\\users\\dilba\\anaconda3\\lib\\site-packages (from pytest>=4.0.2->phik==0.9.9->pandas-profiling) (0.23)\n",
      "Requirement already satisfied: colorama in c:\\users\\dilba\\anaconda3\\lib\\site-packages (from pytest>=4.0.2->phik==0.9.9->pandas-profiling) (0.4.1)\n",
      "Collecting text-unidecode>=1.3 (from python-slugify->kaggle==1.5.6->pandas-profiling)\n",
      "  Using cached https://files.pythonhosted.org/packages/a6/a5/c0b6468d3824fe3fde30dbb5e1f687b291608f9473681bbf7dabbf5a87d7/text_unidecode-1.3-py2.py3-none-any.whl\n",
      "Requirement already satisfied: pickleshare in c:\\users\\dilba\\anaconda3\\lib\\site-packages (from ipython>=4.0.0; python_version >= \"3.3\"->ipywidgets==7.5.1->pandas-profiling) (0.7.5)\n",
      "Requirement already satisfied: setuptools>=18.5 in c:\\users\\dilba\\anaconda3\\lib\\site-packages (from ipython>=4.0.0; python_version >= \"3.3\"->ipywidgets==7.5.1->pandas-profiling) (41.4.0)\n",
      "Requirement already satisfied: jedi>=0.10 in c:\\users\\dilba\\anaconda3\\lib\\site-packages (from ipython>=4.0.0; python_version >= \"3.3\"->ipywidgets==7.5.1->pandas-profiling) (0.15.1)\n",
      "Requirement already satisfied: backcall in c:\\users\\dilba\\anaconda3\\lib\\site-packages (from ipython>=4.0.0; python_version >= \"3.3\"->ipywidgets==7.5.1->pandas-profiling) (0.1.0)\n",
      "Requirement already satisfied: prompt-toolkit<2.1.0,>=2.0.0 in c:\\users\\dilba\\anaconda3\\lib\\site-packages (from ipython>=4.0.0; python_version >= \"3.3\"->ipywidgets==7.5.1->pandas-profiling) (2.0.10)\n",
      "Requirement already satisfied: notebook>=4.4.1 in c:\\users\\dilba\\anaconda3\\lib\\site-packages (from widgetsnbextension~=3.5.0->ipywidgets==7.5.1->pandas-profiling) (6.0.1)\n",
      "Requirement already satisfied: ipython-genutils in c:\\users\\dilba\\anaconda3\\lib\\site-packages (from traitlets>=4.3.1->ipywidgets==7.5.1->pandas-profiling) (0.2.0)\n",
      "Requirement already satisfied: jsonschema!=2.5.0,>=2.4 in c:\\users\\dilba\\anaconda3\\lib\\site-packages (from nbformat>=4.2.0->ipywidgets==7.5.1->pandas-profiling) (3.0.2)\n",
      "Requirement already satisfied: webencodings in c:\\users\\dilba\\anaconda3\\lib\\site-packages (from bleach->nbconvert>=5.3.1->phik==0.9.9->pandas-profiling) (0.5.1)\n",
      "Requirement already satisfied: isort<5,>=4.2.5 in c:\\users\\dilba\\anaconda3\\lib\\site-packages (from pylint>=2.0.0->pytest-pylint>=0.13.0->phik==0.9.9->pandas-profiling) (4.3.21)\n",
      "Requirement already satisfied: astroid<2.4,>=2.3.0 in c:\\users\\dilba\\anaconda3\\lib\\site-packages (from pylint>=2.0.0->pytest-pylint>=0.13.0->phik==0.9.9->pandas-profiling) (2.3.1)\n",
      "Requirement already satisfied: mccabe<0.7,>=0.6 in c:\\users\\dilba\\anaconda3\\lib\\site-packages (from pylint>=2.0.0->pytest-pylint>=0.13.0->phik==0.9.9->pandas-profiling) (0.6.1)\n",
      "Requirement already satisfied: zipp>=0.5 in c:\\users\\dilba\\anaconda3\\lib\\site-packages (from importlib-metadata>=0.12->pytest>=4.0.2->phik==0.9.9->pandas-profiling) (0.6.0)\n",
      "Requirement already satisfied: parso>=0.5.0 in c:\\users\\dilba\\anaconda3\\lib\\site-packages (from jedi>=0.10->ipython>=4.0.0; python_version >= \"3.3\"->ipywidgets==7.5.1->pandas-profiling) (0.5.1)\n",
      "Requirement already satisfied: terminado>=0.8.1 in c:\\users\\dilba\\anaconda3\\lib\\site-packages (from notebook>=4.4.1->widgetsnbextension~=3.5.0->ipywidgets==7.5.1->pandas-profiling) (0.8.2)\n",
      "Requirement already satisfied: prometheus-client in c:\\users\\dilba\\anaconda3\\lib\\site-packages (from notebook>=4.4.1->widgetsnbextension~=3.5.0->ipywidgets==7.5.1->pandas-profiling) (0.7.1)\n",
      "Requirement already satisfied: Send2Trash in c:\\users\\dilba\\anaconda3\\lib\\site-packages (from notebook>=4.4.1->widgetsnbextension~=3.5.0->ipywidgets==7.5.1->pandas-profiling) (1.5.0)\n",
      "Requirement already satisfied: pyrsistent>=0.14.0 in c:\\users\\dilba\\anaconda3\\lib\\site-packages (from jsonschema!=2.5.0,>=2.4->nbformat>=4.2.0->ipywidgets==7.5.1->pandas-profiling) (0.15.4)\n",
      "Collecting typed-ast<1.5,>=1.4.0; implementation_name == \"cpython\" and python_version < \"3.8\" (from astroid<2.4,>=2.3.0->pylint>=2.0.0->pytest-pylint>=0.13.0->phik==0.9.9->pandas-profiling)\n",
      "  Using cached https://files.pythonhosted.org/packages/6d/6f/c67eed763bcc095d9187c7a04fdc3ba640d1e990368acfcb1d294ff71549/typed_ast-1.4.1-cp37-cp37m-win_amd64.whl\n",
      "Requirement already satisfied: lazy-object-proxy==1.4.* in c:\\users\\dilba\\anaconda3\\lib\\site-packages (from astroid<2.4,>=2.3.0->pylint>=2.0.0->pytest-pylint>=0.13.0->phik==0.9.9->pandas-profiling) (1.4.2)\n",
      "Requirement already satisfied: wrapt==1.11.* in c:\\users\\dilba\\anaconda3\\lib\\site-packages (from astroid<2.4,>=2.3.0->pylint>=2.0.0->pytest-pylint>=0.13.0->phik==0.9.9->pandas-profiling) (1.11.2)\n",
      "Installing collected packages: tangled-up-in-unicode, attr, visions, pytest-pylint, joblib, phik, text-unidecode, python-slugify, tqdm, kaggle, missingno, jinja2, htmlmin, confuse, astropy, pandas-profiling, typed-ast\n",
      "  Found existing installation: joblib 0.13.2\n",
      "    Uninstalling joblib-0.13.2:\n",
      "      Successfully uninstalled joblib-0.13.2\n",
      "  Found existing installation: tqdm 4.36.1\n",
      "    Uninstalling tqdm-4.36.1:\n",
      "      Successfully uninstalled tqdm-4.36.1\n",
      "  Found existing installation: Jinja2 2.10.3\n",
      "    Uninstalling Jinja2-2.10.3:\n",
      "      Successfully uninstalled Jinja2-2.10.3\n",
      "  Found existing installation: astropy 3.2.1\n",
      "    Uninstalling astropy-3.2.1:\n",
      "      Successfully uninstalled astropy-3.2.1\n",
      "Successfully installed astropy-4.0 attr-0.3.1 confuse-1.0.0 htmlmin-0.1.12 jinja2-2.11.1 joblib-0.14.1 kaggle-1.5.6 missingno-0.4.2 pandas-profiling-2.5.0 phik-0.9.9 pytest-pylint-0.15.0 python-slugify-4.0.0 tangled-up-in-unicode-0.0.3 text-unidecode-1.3 tqdm-4.42.0 typed-ast-1.4.1 visions-0.2.2\n"
     ]
    }
   ],
   "source": [
    "! pip install pandas-profiling"
   ]
  },
  {
   "cell_type": "code",
   "execution_count": 4,
   "metadata": {},
   "outputs": [],
   "source": [
    "import pandas_profiling as pdp\n",
    "%matplotlib inline"
   ]
  },
  {
   "cell_type": "code",
   "execution_count": 16,
   "metadata": {
    "collapsed": true
   },
   "outputs": [
    {
     "data": {
      "application/vnd.jupyter.widget-view+json": {
       "model_id": "8f314b454a1a4f77bf0e2b3ea2a955de",
       "version_major": 2,
       "version_minor": 0
      },
      "text/plain": [
       "HBox(children=(FloatProgress(value=0.0, description='variables', max=21.0, style=ProgressStyle(description_wid…"
      ]
     },
     "metadata": {},
     "output_type": "display_data"
    },
    {
     "name": "stdout",
     "output_type": "stream",
     "text": [
      "\n"
     ]
    },
    {
     "data": {
      "application/vnd.jupyter.widget-view+json": {
       "model_id": "77832c73bf934f2796d24ea3af4b977e",
       "version_major": 2,
       "version_minor": 0
      },
      "text/plain": [
       "HBox(children=(FloatProgress(value=0.0, description='correlations', max=6.0, style=ProgressStyle(description_w…"
      ]
     },
     "metadata": {},
     "output_type": "display_data"
    },
    {
     "name": "stdout",
     "output_type": "stream",
     "text": [
      "\n"
     ]
    },
    {
     "data": {
      "application/vnd.jupyter.widget-view+json": {
       "model_id": "59bfe0a8774d41eca526a91d3e34605e",
       "version_major": 2,
       "version_minor": 0
      },
      "text/plain": [
       "HBox(children=(FloatProgress(value=0.0, description='interactions [continuous]', max=324.0, style=ProgressStyl…"
      ]
     },
     "metadata": {},
     "output_type": "display_data"
    },
    {
     "name": "stdout",
     "output_type": "stream",
     "text": [
      "\n"
     ]
    },
    {
     "data": {
      "application/vnd.jupyter.widget-view+json": {
       "model_id": "c330caf5106f4369bab8595e1624ad60",
       "version_major": 2,
       "version_minor": 0
      },
      "text/plain": [
       "HBox(children=(FloatProgress(value=0.0, description='table', max=1.0, style=ProgressStyle(description_width='i…"
      ]
     },
     "metadata": {},
     "output_type": "display_data"
    },
    {
     "name": "stdout",
     "output_type": "stream",
     "text": [
      "\n"
     ]
    },
    {
     "data": {
      "application/vnd.jupyter.widget-view+json": {
       "model_id": "55cf826e6a504612bfafae3b519591ba",
       "version_major": 2,
       "version_minor": 0
      },
      "text/plain": [
       "HBox(children=(FloatProgress(value=0.0, description='missing', max=3.0, style=ProgressStyle(description_width=…"
      ]
     },
     "metadata": {},
     "output_type": "display_data"
    },
    {
     "name": "stdout",
     "output_type": "stream",
     "text": [
      "\n"
     ]
    },
    {
     "data": {
      "application/vnd.jupyter.widget-view+json": {
       "model_id": "721abc49b8ff431f9a39cb11b4cd9dd0",
       "version_major": 2,
       "version_minor": 0
      },
      "text/plain": [
       "HBox(children=(FloatProgress(value=0.0, description='warnings', max=3.0, style=ProgressStyle(description_width…"
      ]
     },
     "metadata": {},
     "output_type": "display_data"
    },
    {
     "name": "stdout",
     "output_type": "stream",
     "text": [
      "\n"
     ]
    },
    {
     "data": {
      "application/vnd.jupyter.widget-view+json": {
       "model_id": "9da3c7b4f3b14970be4335ae13f782d5",
       "version_major": 2,
       "version_minor": 0
      },
      "text/plain": [
       "HBox(children=(FloatProgress(value=0.0, description='package', max=1.0, style=ProgressStyle(description_width=…"
      ]
     },
     "metadata": {},
     "output_type": "display_data"
    },
    {
     "name": "stdout",
     "output_type": "stream",
     "text": [
      "\n"
     ]
    },
    {
     "data": {
      "application/vnd.jupyter.widget-view+json": {
       "model_id": "10cbc5bfc12f4f98b9736fbce27c771a",
       "version_major": 2,
       "version_minor": 0
      },
      "text/plain": [
       "HBox(children=(FloatProgress(value=0.0, description='build report structure', max=1.0, style=ProgressStyle(des…"
      ]
     },
     "metadata": {},
     "output_type": "display_data"
    },
    {
     "name": "stdout",
     "output_type": "stream",
     "text": [
      "\n"
     ]
    }
   ],
   "source": [
    "report = pdp.ProfileReport(datadf,title='Pandas Profiling Report')\n"
   ]
  },
  {
   "cell_type": "markdown",
   "metadata": {},
   "source": [
    "DOING THE IMPUTATION OF THE F20 COLUMN USING MEDIAN"
   ]
  },
  {
   "cell_type": "code",
   "execution_count": 4,
   "metadata": {},
   "outputs": [
    {
     "data": {
      "text/html": [
       "<div>\n",
       "<style scoped>\n",
       "    .dataframe tbody tr th:only-of-type {\n",
       "        vertical-align: middle;\n",
       "    }\n",
       "\n",
       "    .dataframe tbody tr th {\n",
       "        vertical-align: top;\n",
       "    }\n",
       "\n",
       "    .dataframe thead th {\n",
       "        text-align: right;\n",
       "    }\n",
       "</style>\n",
       "<table border=\"1\" class=\"dataframe\">\n",
       "  <thead>\n",
       "    <tr style=\"text-align: right;\">\n",
       "      <th></th>\n",
       "      <th>F1</th>\n",
       "      <th>F2</th>\n",
       "      <th>F3</th>\n",
       "      <th>F4</th>\n",
       "      <th>F5</th>\n",
       "      <th>F6</th>\n",
       "      <th>F7</th>\n",
       "      <th>F8</th>\n",
       "      <th>F9</th>\n",
       "      <th>F10</th>\n",
       "      <th>...</th>\n",
       "      <th>F12</th>\n",
       "      <th>F13</th>\n",
       "      <th>F14</th>\n",
       "      <th>F15</th>\n",
       "      <th>F16</th>\n",
       "      <th>F17</th>\n",
       "      <th>F18</th>\n",
       "      <th>F19</th>\n",
       "      <th>F20</th>\n",
       "      <th>Class</th>\n",
       "    </tr>\n",
       "  </thead>\n",
       "  <tbody>\n",
       "    <tr>\n",
       "      <th>0</th>\n",
       "      <td>0</td>\n",
       "      <td>0</td>\n",
       "      <td>16</td>\n",
       "      <td>2.02</td>\n",
       "      <td>0.52</td>\n",
       "      <td>-2.35</td>\n",
       "      <td>-1.98</td>\n",
       "      <td>-0.70</td>\n",
       "      <td>85</td>\n",
       "      <td>6</td>\n",
       "      <td>...</td>\n",
       "      <td>-0.07</td>\n",
       "      <td>1.08</td>\n",
       "      <td>15</td>\n",
       "      <td>-0.63</td>\n",
       "      <td>-3.49</td>\n",
       "      <td>-1.68</td>\n",
       "      <td>0.02</td>\n",
       "      <td>15.3</td>\n",
       "      <td>0.17</td>\n",
       "      <td>True</td>\n",
       "    </tr>\n",
       "    <tr>\n",
       "      <th>1</th>\n",
       "      <td>0</td>\n",
       "      <td>0</td>\n",
       "      <td>86</td>\n",
       "      <td>-0.90</td>\n",
       "      <td>2.75</td>\n",
       "      <td>0.14</td>\n",
       "      <td>0.83</td>\n",
       "      <td>-0.06</td>\n",
       "      <td>107</td>\n",
       "      <td>1</td>\n",
       "      <td>...</td>\n",
       "      <td>0.17</td>\n",
       "      <td>1.06</td>\n",
       "      <td>-8</td>\n",
       "      <td>-1.21</td>\n",
       "      <td>0.34</td>\n",
       "      <td>0.36</td>\n",
       "      <td>0.61</td>\n",
       "      <td>10.1</td>\n",
       "      <td>0.17</td>\n",
       "      <td>True</td>\n",
       "    </tr>\n",
       "    <tr>\n",
       "      <th>2</th>\n",
       "      <td>1</td>\n",
       "      <td>1</td>\n",
       "      <td>165</td>\n",
       "      <td>0.73</td>\n",
       "      <td>1.05</td>\n",
       "      <td>0.10</td>\n",
       "      <td>2.57</td>\n",
       "      <td>-1.65</td>\n",
       "      <td>41</td>\n",
       "      <td>5</td>\n",
       "      <td>...</td>\n",
       "      <td>0.04</td>\n",
       "      <td>0.42</td>\n",
       "      <td>-6</td>\n",
       "      <td>-0.46</td>\n",
       "      <td>-0.62</td>\n",
       "      <td>1.67</td>\n",
       "      <td>2.60</td>\n",
       "      <td>11.0</td>\n",
       "      <td>1.55</td>\n",
       "      <td>False</td>\n",
       "    </tr>\n",
       "    <tr>\n",
       "      <th>3</th>\n",
       "      <td>1</td>\n",
       "      <td>1</td>\n",
       "      <td>191</td>\n",
       "      <td>-1.50</td>\n",
       "      <td>0.79</td>\n",
       "      <td>0.33</td>\n",
       "      <td>1.24</td>\n",
       "      <td>1.35</td>\n",
       "      <td>17</td>\n",
       "      <td>2</td>\n",
       "      <td>...</td>\n",
       "      <td>1.74</td>\n",
       "      <td>1.74</td>\n",
       "      <td>15</td>\n",
       "      <td>0.47</td>\n",
       "      <td>0.63</td>\n",
       "      <td>0.08</td>\n",
       "      <td>0.19</td>\n",
       "      <td>6.3</td>\n",
       "      <td>0.95</td>\n",
       "      <td>False</td>\n",
       "    </tr>\n",
       "    <tr>\n",
       "      <th>4</th>\n",
       "      <td>1</td>\n",
       "      <td>1</td>\n",
       "      <td>13</td>\n",
       "      <td>0.25</td>\n",
       "      <td>-1.19</td>\n",
       "      <td>-0.90</td>\n",
       "      <td>2.67</td>\n",
       "      <td>0.22</td>\n",
       "      <td>12</td>\n",
       "      <td>8</td>\n",
       "      <td>...</td>\n",
       "      <td>-0.39</td>\n",
       "      <td>1.25</td>\n",
       "      <td>25</td>\n",
       "      <td>-0.09</td>\n",
       "      <td>-2.41</td>\n",
       "      <td>-0.53</td>\n",
       "      <td>-0.77</td>\n",
       "      <td>10.5</td>\n",
       "      <td>0.17</td>\n",
       "      <td>True</td>\n",
       "    </tr>\n",
       "  </tbody>\n",
       "</table>\n",
       "<p>5 rows × 21 columns</p>\n",
       "</div>"
      ],
      "text/plain": [
       "   F1  F2   F3    F4    F5    F6    F7    F8   F9  F10  ...   F12   F13  F14  \\\n",
       "0   0   0   16  2.02  0.52 -2.35 -1.98 -0.70   85    6  ... -0.07  1.08   15   \n",
       "1   0   0   86 -0.90  2.75  0.14  0.83 -0.06  107    1  ...  0.17  1.06   -8   \n",
       "2   1   1  165  0.73  1.05  0.10  2.57 -1.65   41    5  ...  0.04  0.42   -6   \n",
       "3   1   1  191 -1.50  0.79  0.33  1.24  1.35   17    2  ...  1.74  1.74   15   \n",
       "4   1   1   13  0.25 -1.19 -0.90  2.67  0.22   12    8  ... -0.39  1.25   25   \n",
       "\n",
       "    F15   F16   F17   F18   F19   F20  Class  \n",
       "0 -0.63 -3.49 -1.68  0.02  15.3  0.17   True  \n",
       "1 -1.21  0.34  0.36  0.61  10.1  0.17   True  \n",
       "2 -0.46 -0.62  1.67  2.60  11.0  1.55  False  \n",
       "3  0.47  0.63  0.08  0.19   6.3  0.95  False  \n",
       "4 -0.09 -2.41 -0.53 -0.77  10.5  0.17   True  \n",
       "\n",
       "[5 rows x 21 columns]"
      ]
     },
     "execution_count": 4,
     "metadata": {},
     "output_type": "execute_result"
    }
   ],
   "source": [
    "datadf=round(datadf.fillna(datadf['F20'].median()),2)\n",
    "datadf.head()"
   ]
  },
  {
   "cell_type": "markdown",
   "metadata": {},
   "source": [
    "CALCULATING THE MODE OF F20 COLUMN AND SINCE ITS A NEGATIVE VALUE NOT DOING ITS IMPUTATION"
   ]
  },
  {
   "cell_type": "code",
   "execution_count": 5,
   "metadata": {},
   "outputs": [
    {
     "data": {
      "text/plain": [
       "0   -0.13\n",
       "dtype: float64"
      ]
     },
     "execution_count": 5,
     "metadata": {},
     "output_type": "execute_result"
    }
   ],
   "source": [
    "datadf=pd.read_csv('CE802_Ass_2019_Data.csv')\n",
    "datadf['F20'].mode()"
   ]
  },
  {
   "cell_type": "markdown",
   "metadata": {},
   "source": [
    "FINALLY DOING THE IMPUTATION OF THE F20 COLUMN USING THE MEAN() AND USING THIS AS THE FINAL DATASET TO DO PREDICTIONS."
   ]
  },
  {
   "cell_type": "markdown",
   "metadata": {},
   "source": [
    "SEPARATING THE TARGETS AND THE LABELS INTO X,Y. ALL THE COLUMNS TILL F20 GOES IN X AND ONLY THE CLASS COLUMN IS IN Y."
   ]
  },
  {
   "cell_type": "code",
   "execution_count": 6,
   "metadata": {},
   "outputs": [],
   "source": [
    "datadf=pd.read_csv('CE802_Ass_2019_Data.csv')\n",
    "datadf=datadf.fillna(datadf['F20'].mean())\n",
    "x=datadf.iloc[:,datadf.columns!='Class'].values\n",
    "y= datadf.iloc[:,20].values"
   ]
  },
  {
   "cell_type": "markdown",
   "metadata": {},
   "source": [
    "IMPORTING THE DIFFERENT LIBRARIES FROM SKLEARN FOR BUILDING THE CLASSIFIER MODEL AND USING THE TEST_TRAIN_SPLIT FUNCTION TO\n"
   ]
  },
  {
   "cell_type": "markdown",
   "metadata": {},
   "source": [
    "DIVIDE THE DATA INTO TRAINING SET AND TESTING SET FOR 75% AND 25% AND USING THE STRATIFY ."
   ]
  },
  {
   "cell_type": "code",
   "execution_count": 7,
   "metadata": {},
   "outputs": [],
   "source": [
    "from sklearn.model_selection import train_test_split, StratifiedKFold\n",
    "from sklearn.neighbors import KNeighborsClassifier\n",
    "from sklearn.preprocessing import StandardScaler\n",
    "from sklearn.tree import DecisionTreeClassifier\n",
    "from sklearn.ensemble import RandomForestClassifier\n",
    "from sklearn.svm import SVC\n",
    "import sklearn.model_selection as model_selection\n",
    "from sklearn.model_selection import cross_validate\n",
    "from sklearn.model_selection import train_test_split\n",
    "from sklearn.model_selection import GridSearchCV, cross_val_score\n",
    "from sklearn import metrics\n",
    "from sklearn.metrics import accuracy_score\n",
    "X_train, X_test, y_train, y_test = train_test_split(x, y, test_size=0.25,random_state=160,stratify=y)\n"
   ]
  },
  {
   "cell_type": "markdown",
   "metadata": {},
   "source": [
    "USING THE STANDARD SCALER FUNCTION TO SCALE THE DATA."
   ]
  },
  {
   "cell_type": "code",
   "execution_count": 8,
   "metadata": {},
   "outputs": [],
   "source": [
    "scaler = StandardScaler()\n",
    "X_train = scaler.fit_transform(X_train)\n",
    "X_test = scaler.transform(X_test)"
   ]
  },
  {
   "cell_type": "markdown",
   "metadata": {},
   "source": [
    "CALCULATING THE BEST PARAMETERS FOR DECISION TREE USING THE GRID SEARCH AND DOING 5 FOLD CROSS VALIDATION."
   ]
  },
  {
   "cell_type": "code",
   "execution_count": 9,
   "metadata": {},
   "outputs": [
    {
     "name": "stdout",
     "output_type": "stream",
     "text": [
      "the best results are :{'class_weight': None, 'criterion': 'entropy', 'max_depth': 3, 'presort': False}\n"
     ]
    },
    {
     "name": "stderr",
     "output_type": "stream",
     "text": [
      "C:\\Users\\Dilba\\Anaconda3\\lib\\site-packages\\sklearn\\model_selection\\_search.py:814: DeprecationWarning: The default of the `iid` parameter will change from True to False in version 0.22 and will be removed in 0.24. This will change numeric results when test-set sizes are unequal.\n",
      "  DeprecationWarning)\n"
     ]
    },
    {
     "data": {
      "text/plain": [
       "0.568"
      ]
     },
     "execution_count": 9,
     "metadata": {},
     "output_type": "execute_result"
    }
   ],
   "source": [
    "parameters_dt = {'criterion':('gini', 'entropy'),\n",
    "'max_depth':[3,4,5,6],\n",
    "'class_weight':('balanced', None),\n",
    "'presort':(False,True),\n",
    "}\n",
    "dt = DecisionTreeClassifier()\n",
    "clf_dt = GridSearchCV(dt, parameters_dt,cv = 5, scoring = 'accuracy')\n",
    "clf_dt1=clf_dt.fit(X_train, y_train)\n",
    "def display(results):\n",
    "    print(f'the best results are :{results.best_params_}')\n",
    "display(clf_dt)\n",
    "dt_pred=clf_dt1.predict(X_test)\n",
    "accuracy_score(y_test,dt_pred)"
   ]
  },
  {
   "cell_type": "markdown",
   "metadata": {},
   "source": [
    "USING THE BEST PARAMETERS :{'class_weight': None, 'criterion': 'entropy', \n",
    "                            'max_depth': 3, 'presort': True}\n",
    "AND MAKING A MODEL WITH 56.8% ACCURACY"
   ]
  },
  {
   "cell_type": "code",
   "execution_count": 10,
   "metadata": {},
   "outputs": [
    {
     "name": "stdout",
     "output_type": "stream",
     "text": [
      "Accuracy with Pruned Decision Tree Classifier :56.8 %\n"
     ]
    },
    {
     "data": {
      "text/plain": [
       "0.02877697841726612"
      ]
     },
     "execution_count": 10,
     "metadata": {},
     "output_type": "execute_result"
    }
   ],
   "source": [
    "tree = DecisionTreeClassifier(max_depth=3,criterion='entropy',presort= True,random_state=160)\n",
    "clf_dt=tree.fit(X_train, y_train)\n",
    "dt_pred = clf_dt.predict(X_test)\n",
    "dt_pred\n",
    "accuracy_dt=accuracy_score(y_test, dt_pred)*100\n",
    "print(\"Accuracy with Pruned Decision Tree Classifier :\"+ str(accuracy_dt)+\" %\")\n",
    "metrics.cohen_kappa_score(dt_pred,y_test)"
   ]
  },
  {
   "cell_type": "markdown",
   "metadata": {},
   "source": [
    "LOADING THE CE802_ASS_2019_TEST DATA AND IMPUTING ITS F20 COLUMN WITH THE MEAN AND THEN USING THE DECISION TREE MODEL TO FILL\n",
    "COLUMN CLASS WITH THE VALUES OF FAKE NEWS TRUE AND FALSE"
   ]
  },
  {
   "cell_type": "code",
   "execution_count": 11,
   "metadata": {},
   "outputs": [],
   "source": [
    "test_data=pd.read_csv('CE802_Ass_2019_Test.csv')\n",
    "f20_mean=test_data['F20'].mean()\n",
    "test_data['F20'].fillna(f20_mean,inplace=True)\n",
    "X_final=test_data.iloc[:,0:20].values\n",
    "y_final=test_data.iloc[:,20].values\n",
    "dt_y_final=clf_dt.predict(X_final)\n",
    "dt_y_final\n",
    "test_data['Class']=dt_y_final\n",
    "test_data.to_csv(\"dt_test.csv\")"
   ]
  },
  {
   "cell_type": "markdown",
   "metadata": {},
   "source": [
    "CALCULATING THE BEST PARAMETER FOR THE SUPPORT VECTOR MACHINE WITH KERNEL USING THE GRIDSEARCHCV AND USING THE MODEL"
   ]
  },
  {
   "cell_type": "code",
   "execution_count": 12,
   "metadata": {},
   "outputs": [
    {
     "name": "stdout",
     "output_type": "stream",
     "text": [
      "the best results are :{'C': 10, 'gamma': 'auto', 'kernel': 'rbf'}\n"
     ]
    },
    {
     "name": "stderr",
     "output_type": "stream",
     "text": [
      "C:\\Users\\Dilba\\Anaconda3\\lib\\site-packages\\sklearn\\model_selection\\_search.py:814: DeprecationWarning: The default of the `iid` parameter will change from True to False in version 0.22 and will be removed in 0.24. This will change numeric results when test-set sizes are unequal.\n",
      "  DeprecationWarning)\n"
     ]
    },
    {
     "data": {
      "text/plain": [
       "0.744"
      ]
     },
     "execution_count": 12,
     "metadata": {},
     "output_type": "execute_result"
    }
   ],
   "source": [
    "svm = SVC()\n",
    "parameters_svm =parameters = {\n",
    "\"kernel\": [\"linear\",\"rbf\"], 'gamma':['auto'],\n",
    "\"C\":[0.1,1,10]\n",
    "}\n",
    "clf_svm=GridSearchCV(svm, parameters_svm,cv = 5, scoring = 'accuracy')\n",
    "clf_svm1=clf_svm.fit(X_train, y_train)\n",
    "def display(results):\n",
    "    print(f'the best results are :{results.best_params_}')\n",
    "display(clf_svm)\n",
    "svm_pred=clf_svm1.predict(X_test)\n",
    "accuracy_score(y_test,svm_pred)"
   ]
  },
  {
   "cell_type": "markdown",
   "metadata": {},
   "source": [
    "USING THE SVM WITH :{'C': 10, 'gamma': 'auto', 'kernel': 'rbf'} PARAMETERS GIVE AN ACCURACY OF 74.4%"
   ]
  },
  {
   "cell_type": "code",
   "execution_count": 13,
   "metadata": {},
   "outputs": [
    {
     "name": "stdout",
     "output_type": "stream",
     "text": [
      "Accuracy with Support Vector Machine with Kernel :74.4 %\n"
     ]
    },
    {
     "data": {
      "text/plain": [
       "0.47643979057591623"
      ]
     },
     "execution_count": 13,
     "metadata": {},
     "output_type": "execute_result"
    }
   ],
   "source": [
    "svc=SVC(gamma='auto',kernel='rbf',C=10)\n",
    "svm=svc.fit(X_train,y_train)\n",
    "svm_pred=svm.predict(X_test)\n",
    "accuracy_svm=accuracy_score(y_test,svm_pred)*100\n",
    "print(\"Accuracy with Support Vector Machine with Kernel :\"+ str(accuracy_svm)+\" %\")\n",
    "metrics.cohen_kappa_score(svm_pred,y_test)"
   ]
  },
  {
   "cell_type": "markdown",
   "metadata": {},
   "source": [
    "LOADING THE CE802_ASS_2019_TEST DATA AND IMPUTING ITS F20 COLUMN WITH THE MEAN AND THEN USING THE SUPPORT VECTOR KERNEL MODEL TO FILL\n",
    "TO FILL THE COLUMN CLASS WITH THE VALUES OF FAKE NEWS TRUE AND FALSE USING THE"
   ]
  },
  {
   "cell_type": "code",
   "execution_count": 14,
   "metadata": {},
   "outputs": [],
   "source": [
    "test_data=pd.read_csv('CE802_Ass_2019_Test.csv')\n",
    "f20_mean=test_data['F20'].mean()\n",
    "test_data['F20'].fillna(f20_mean,inplace=True)\n",
    "X_final=test_data.iloc[:,0:20].values\n",
    "y_final=test_data.iloc[:,20].values\n",
    "svm_y_final=svm.predict(X_final)\n",
    "svm_y_final\n",
    "test_data['Class']=svm_y_final\n",
    "test_data.to_csv(\"svm_test.csv\")"
   ]
  },
  {
   "cell_type": "markdown",
   "metadata": {},
   "source": [
    "CALCULATING THE BEST PARAMETER FOR THE RANDOM FOREST CLASSIFIER USING THE GRIDSEARCHCV AND USING THE MODEL"
   ]
  },
  {
   "cell_type": "code",
   "execution_count": 15,
   "metadata": {},
   "outputs": [
    {
     "name": "stdout",
     "output_type": "stream",
     "text": [
      "the best results are :{'criterion': 'gini', 'max_features': 'auto', 'min_samples_leaf': 2, 'min_samples_split': 6, 'n_estimators': 100, 'n_jobs': -1, 'oob_score': True, 'random_state': 160, 'warm_start': True}\n"
     ]
    },
    {
     "data": {
      "text/plain": [
       "0.584"
      ]
     },
     "execution_count": 15,
     "metadata": {},
     "output_type": "execute_result"
    }
   ],
   "source": [
    "rf = RandomForestClassifier()\n",
    "\n",
    "parameters_rf = {'n_estimators': [100,50], 'max_features': ['auto'],\n",
    "                 'n_jobs': [-1], 'min_samples_leaf': [2,4,], 'random_state':[160],\n",
    "                 'min_samples_split':[2,6,], 'oob_score': [True,False],\n",
    "                 'criterion': ['gini'], 'warm_start': [True,False]}\n",
    "\n",
    "clf_rf=GridSearchCV(rf, parameters_rf,cv = 5, scoring = 'accuracy')\n",
    "clf_rf1=clf_rf.fit(X_train, y_train)\n",
    "\n",
    "def display(results):\n",
    "    print(f'the best results are :{results.best_params_}')    \n",
    "display(clf_rf)\n",
    "\n",
    "rf_pred=clf_rf1.predict(X_test)\n",
    "accuracy_score(y_test,rf_pred)"
   ]
  },
  {
   "cell_type": "markdown",
   "metadata": {},
   "source": [
    "USING THE RANDOM FOREST CLASSIFIER WITH:{'criterion': 'gini', 'max_features': 'auto', 'min_samples_leaf': 2,min_samples_split': 6, 'n_estimators': 100, 'n_jobs': -1, 'oob_score': True, 'random_state': 160, 'warm_start': True}\n",
    "PARAMETERS GIVE AN ACCURACY OF 58.4%"
   ]
  },
  {
   "cell_type": "code",
   "execution_count": 16,
   "metadata": {},
   "outputs": [
    {
     "name": "stdout",
     "output_type": "stream",
     "text": [
      "Accuracy with Random Forest Classifier :58.4 %\n"
     ]
    },
    {
     "data": {
      "text/plain": [
       "0.12868632707774807"
      ]
     },
     "execution_count": 16,
     "metadata": {},
     "output_type": "execute_result"
    }
   ],
   "source": [
    "rf=RandomForestClassifier(criterion= \"gini\",max_features=\"auto\", min_samples_leaf= 2, min_samples_split=6, n_estimators=100, n_jobs=-1, oob_score= True, random_state= 160, warm_start= True)\n",
    "rf1=rf.fit(X_train,y_train)\n",
    "rf_pred=rf1.predict(X_test)\n",
    "accuracy_rf=accuracy_score(y_test,rf_pred)*100\n",
    "print(\"Accuracy with Random Forest Classifier :\"+ str(accuracy_rf)+\" %\")\n",
    "metrics.cohen_kappa_score(rf_pred,y_test)\n"
   ]
  },
  {
   "cell_type": "markdown",
   "metadata": {},
   "source": [
    "LOADING THE CE802_ASS_2019_TEST DATA AND IMPUTING ITS F20 COLUMN WITH THE MEAN AND THEN USING THE RANDOM FOREST CLASSIFIER MODEL TO FILL COLUMN CLASS WITH THE VALUES OF FAKE NEWS TRUE AND FALSE AND USING THE RF1 MODEL."
   ]
  },
  {
   "cell_type": "code",
   "execution_count": 17,
   "metadata": {},
   "outputs": [],
   "source": [
    "test_data=pd.read_csv('CE802_Ass_2019_Test.csv')\n",
    "f20_mean=test_data['F20'].mean()\n",
    "test_data['F20'].fillna(f20_mean,inplace=True)\n",
    "X_final=test_data.iloc[:,0:20].values\n",
    "y_final=test_data.iloc[:,20].values\n",
    "rf_y_final=rf1.predict(X_final)\n",
    "rf_y_final\n",
    "test_data['Class']=rf_y_final\n",
    "test_data.to_csv(\"rf_test.csv\")"
   ]
  },
  {
   "cell_type": "markdown",
   "metadata": {},
   "source": [
    "USING THE K NEAREST NEIGHBOR CLASSIFIER AND FINDING THE BEST VALUE OF K FROM 1 TO 15 appending the values of the testing accuracy of the model prediction knn for the values of k from 1 to 16 in the scores list."
   ]
  },
  {
   "cell_type": "code",
   "execution_count": 18,
   "metadata": {},
   "outputs": [
    {
     "name": "stdout",
     "output_type": "stream",
     "text": [
      "[0.632, 0.608, 0.616, 0.632, 0.664, 0.608, 0.616, 0.624, 0.632, 0.632, 0.64, 0.624, 0.656, 0.64, 0.64]\n"
     ]
    }
   ],
   "source": [
    "k_range=range(1,16)\n",
    "scores=[]\n",
    "for k in k_range:\n",
    "    knn=KNeighborsClassifier(n_neighbors=k)\n",
    "    knn.fit(X_train,y_train)\n",
    "    knn_pred=knn.predict(X_test)\n",
    "    scores.append(metrics.accuracy_score(y_test,knn_pred))\n",
    "print(scores)"
   ]
  },
  {
   "cell_type": "code",
   "execution_count": 19,
   "metadata": {
    "collapsed": true
   },
   "outputs": [
    {
     "ename": "SyntaxError",
     "evalue": "invalid syntax (<ipython-input-19-3d349d4b79bb>, line 1)",
     "output_type": "error",
     "traceback": [
      "\u001b[1;36m  File \u001b[1;32m\"<ipython-input-19-3d349d4b79bb>\"\u001b[1;36m, line \u001b[1;32m1\u001b[0m\n\u001b[1;33m    The graph clearly shows the highest value of accuracy is 66% when k=5\u001b[0m\n\u001b[1;37m            ^\u001b[0m\n\u001b[1;31mSyntaxError\u001b[0m\u001b[1;31m:\u001b[0m invalid syntax\n"
     ]
    }
   ],
   "source": [
    "The graph clearly shows the highest value of accuracy is 66% when k=5"
   ]
  },
  {
   "cell_type": "code",
   "execution_count": 20,
   "metadata": {},
   "outputs": [
    {
     "data": {
      "text/plain": [
       "Text(0, 0.5, 'Testing Accuracy')"
      ]
     },
     "execution_count": 20,
     "metadata": {},
     "output_type": "execute_result"
    },
    {
     "data": {
      "image/png": "[encoded data removed]",
      "text/plain": [
       "<Figure size 432x288 with 1 Axes>"
      ]
     },
     "metadata": {
      "needs_background": "light"
     },
     "output_type": "display_data"
    }
   ],
   "source": [
    "plt.plot(k_range,scores)\n",
    "plt.xlabel('Values of k for KNN')\n",
    "plt.ylabel('Testing Accuracy')"
   ]
  },
  {
   "cell_type": "markdown",
   "metadata": {},
   "source": [
    "THE NEAREST NEIGHBOR IS 14 AND SCORE IS 69.6% USING THE K NEAREST 14 NEIGHBOR ON THE TESTING SET AND GETTING THE ACCURACY 69.6%"
   ]
  },
  {
   "cell_type": "code",
   "execution_count": 21,
   "metadata": {},
   "outputs": [
    {
     "name": "stdout",
     "output_type": "stream",
     "text": [
      "Accuracy with K :66.4 %\n"
     ]
    },
    {
     "data": {
      "text/plain": [
       "0.2990654205607477"
      ]
     },
     "execution_count": 21,
     "metadata": {},
     "output_type": "execute_result"
    }
   ],
   "source": [
    "clf_knn= KNeighborsClassifier(5)\n",
    "clf_knn=clf_knn.fit(X_train,y_train)\n",
    "knn_pred=clf_knn.predict(X_test)\n",
    "accuracy_knn=round(accuracy_score(y_test,knn_pred)*100,2)\n",
    "print(\"Accuracy with K :\"+ str(accuracy_knn)+\" %\")\n",
    "metrics.cohen_kappa_score(knn_pred,y_test)\n"
   ]
  },
  {
   "cell_type": "markdown",
   "metadata": {},
   "source": [
    "LOADING THE CE802_ASS_2019_TEST DATA AND IMPUTING ITS F20 COLUMN WITH THE MEAN AND THEN USING THE K NEAREST NEIGHBOR CLASSIFIER MODEL TO FILL COLUMN CLASS WITH THE VALUES OF FAKE NEWS TRUE AND FALSE AND USING THE clf_knn MODEL"
   ]
  },
  {
   "cell_type": "code",
   "execution_count": 22,
   "metadata": {},
   "outputs": [],
   "source": [
    "test_data=pd.read_csv('CE802_Ass_2019_Test.csv')\n",
    "f20_mean=test_data['F20'].mean()\n",
    "test_data['F20'].fillna(f20_mean,inplace=True)\n",
    "X_final=test_data.iloc[:,0:20].values\n",
    "y_final=test_data.iloc[:,20].values\n",
    "knn_y_final=clf_knn.predict(X_final)\n",
    "knn_y_final\n",
    "test_data['Class']=knn_y_final\n",
    "test_data.to_csv(\"knn_test.csv\")"
   ]
  },
  {
   "cell_type": "markdown",
   "metadata": {},
   "source": [
    "Comparison of all the classifiers used, using Kfold=5 times"
   ]
  },
  {
   "cell_type": "code",
   "execution_count": 23,
   "metadata": {},
   "outputs": [],
   "source": [
    "Classifiers=('Decision Tree','Support Vector Machines(Kernel)','Random Forest','K Nearest Neighbor')\n",
    "scores = []\n",
    "models = [clf_dt,svm,rf1,clf_knn]\n",
    "for model in models:\n",
    "    score = cross_val_score(model, X_train, y_train, scoring = 'accuracy', cv = 5, n_jobs = -1).mean()\n",
    "    scores.append(score)\n"
   ]
  },
  {
   "cell_type": "code",
   "execution_count": 24,
   "metadata": {},
   "outputs": [
    {
     "data": {
      "text/html": [
       "<div>\n",
       "<style scoped>\n",
       "    .dataframe tbody tr th:only-of-type {\n",
       "        vertical-align: middle;\n",
       "    }\n",
       "\n",
       "    .dataframe tbody tr th {\n",
       "        vertical-align: top;\n",
       "    }\n",
       "\n",
       "    .dataframe thead th {\n",
       "        text-align: right;\n",
       "    }\n",
       "</style>\n",
       "<table border=\"1\" class=\"dataframe\">\n",
       "  <thead>\n",
       "    <tr style=\"text-align: right;\">\n",
       "      <th></th>\n",
       "      <th>score</th>\n",
       "    </tr>\n",
       "  </thead>\n",
       "  <tbody>\n",
       "    <tr>\n",
       "      <th>Support Vector Machines(Kernel)</th>\n",
       "      <td>0.618780</td>\n",
       "    </tr>\n",
       "    <tr>\n",
       "      <th>Random Forest</th>\n",
       "      <td>0.605482</td>\n",
       "    </tr>\n",
       "    <tr>\n",
       "      <th>Decision Tree</th>\n",
       "      <td>0.597410</td>\n",
       "    </tr>\n",
       "    <tr>\n",
       "      <th>K Nearest Neighbor</th>\n",
       "      <td>0.576324</td>\n",
       "    </tr>\n",
       "  </tbody>\n",
       "</table>\n",
       "</div>"
      ],
      "text/plain": [
       "                                    score\n",
       "Support Vector Machines(Kernel)  0.618780\n",
       "Random Forest                    0.605482\n",
       "Decision Tree                    0.597410\n",
       "K Nearest Neighbor               0.576324"
      ]
     },
     "execution_count": 24,
     "metadata": {},
     "output_type": "execute_result"
    }
   ],
   "source": [
    "mode = pd.DataFrame(scores, index = Classifiers, columns = ['score']).sort_values(by = 'score',\n",
    "ascending = False)\n",
    "mode\n",
    "\n",
    "\n",
    "\n"
   ]
  },
  {
   "cell_type": "code",
   "execution_count": null,
   "metadata": {},
   "outputs": [],
   "source": []
  }
 ],
 "metadata": {
  "kernelspec": {
   "display_name": "Python 3",
   "language": "python",
   "name": "python3"
  },
  "language_info": {
   "codemirror_mode": {
    "name": "ipython",
    "version": 3
   },
   "file_extension": ".py",
   "mimetype": "text/x-python",
   "name": "python",
   "nbconvert_exporter": "python",
   "pygments_lexer": "ipython3",
   "version": "3.7.4"
  }
 },
 "nbformat": 4,
 "nbformat_minor": 2
}
